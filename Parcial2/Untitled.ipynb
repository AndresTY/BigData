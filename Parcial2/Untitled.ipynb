{
 "cells": [
  {
   "cell_type": "code",
   "execution_count": 4,
   "metadata": {},
   "outputs": [],
   "source": [
    "from bs4 import BeautifulSoup\n",
    "def to_csv(file):\n",
    "    #file_content = s3.get_object(Bucket=S3_BUCKET, Key=file)[\"Body\"].read() #obtencion del archivo\n",
    "    soup = BeautifulSoup(file, \"html.parser\")\n",
    "    text = \"tema|id|tema|link|structure\\n\"\n",
    "    for articles in soup.find_all('article'):\n",
    "        for links in articles.find_all('a'): \n",
    "            try:\n",
    "                link = links[\"href\"]\n",
    "                tema = link.split('/')[1]\n",
    "                id_news = links[\"id\"]\n",
    "                code = soup.select_one(f\"a#{id_news}\").get_text(strip=True, separator=\" \")\n",
    "                text += f\"{code}|{id_news}|{tema}|{link}|{links}\\n\"\n",
    "            except:\n",
    "                ...\n",
    "    return text"
   ]
  },
  {
   "cell_type": "code",
   "execution_count": 5,
   "metadata": {},
   "outputs": [],
   "source": [
    "t1 = \"\"\"<article class=\"image-left video-icon\" dtm-name=\"Contenido3\" itemscope=\"\" itemtype=\"https://schema.org/NewsArticle\" id=\"m1246-1-1247\"><div class=\"recurso\" itemtype=\"https://schema.org/VideoObject\" itemprop=\"video\" itemscope=\"\">\n",
    "<figure class=\"image-container\" width=\"170\" height=\"113\"><a id=\"m1251-1250-1252\" class=\"image page-link\" href=\"/colombia/otras-ciudades/asi-fue-accidente-aereo-que-causo-la-tragedia-en-una-familia-en-santa-marta-710295\"><picture><source srcset=\"/files/image_400_266/uploads/2022/10/16/634c3fa467652.png\" media=\"(max-width:767px)\" class=\"js-lazy-image--handled\"><img style=\" display: inline;\" alt=\"\" src=\"https://www.eltiempo.com/files/image_170_113/uploads/2022/10/16/634c3fa467652.png\" itemprop=\"thumbnailUrl\" class=\"js-lazy-image--handled\" width=\"170px\" height=\"113px\"></picture></a></figure><div class=\"oculto videoDesc\"><span itemprop=\"name\">Avioneta se salió de pista del aeropuerto de Santa Marta y cayó al mar</span><span itemprop=\"description\">En la aeronave se movilizaban dos tripulantes y cuatro pasajeros, entre los que se encuentran una niña.</span><meta itemprop=\"uploadDate\" content=\"2022-10-16T20:08:02-0500\"></div></div>\n",
    "<div class=\"article-details\">\n",
    "<div class=\"category-published\">\n",
    "<a id=\"m1258-1-1259\" class=\"category page-link colombia colombia--otras-ciudades\" href=\"/colombia/otras-ciudades\">Otras Ciudades</a><span id=\"m1264-2-1265\" class=\"published-at\">8:08 pm</span></div>\n",
    "<h2 class=\"title-container\" itemprop=\"headline\">\n",
    "<a class=\"multimediatag page-link\" href=\"/colombia/otras-ciudades/asi-fue-accidente-aereo-que-causo-la-tragedia-en-una-familia-en-santa-marta-710295\">\n",
    "<span id=\"m1270-3-1271\">Video</span></a>\n",
    "<a id=\"m1276-4-1277\" class=\"title page-link\" href=\"/colombia/otras-ciudades/asi-fue-accidente-aereo-que-causo-la-tragedia-en-una-familia-en-santa-marta-710295\">Así fue el accidente aéreo que causó la tragedia de una familia en Santa Marta</a></h2>\n",
    "</div>\n",
    "<h3 class=\"epigraph-container\">\n",
    "<a id=\"m1282-5-1283\" class=\"epigraph page-link\" href=\"/colombia/otras-ciudades/asi-fue-accidente-aereo-que-causo-la-tragedia-en-una-familia-en-santa-marta-710295\">Un niño murió y otra menor se encuentra en estado grave. Una adulta mayor también permanece en UCI.</a></h3>\n",
    "<meta itemprop=\"datePublished\" content=\"2022-10-16\"><meta itemprop=\"dateModified\" content=\"2022-10-16\"><meta itemscope=\"\" itemprop=\"mainEntityOfPage\" itemtype=\"https://schema.org/WebPage\" itemid=\"https://www.eltiempo.com/colombia/otras-ciudades/asi-fue-accidente-aereo-que-causo-la-tragedia-en-una-familia-en-santa-marta-710295\"><span class=\"oculto\" itemprop=\"author\" itemscope=\"\" itemtype=\"https://schema.org/Person\">\n",
    "<span itemprop=\"name\">Roger Urieles</span>\n",
    "</span>\n",
    "<div class=\"oculto\" itemprop=\"publisher\" itemscope=\"\" itemtype=\"https://schema.org/Organization\">\n",
    "<div itemprop=\"logo\" itemscope=\"\" itemtype=\"https://schema.org/ImageObject\">\n",
    "<meta itemprop=\"url\" content=\"https://www.eltiempo.com/bundles/eltiempocms/images/el-tiempo/logo-el-tiempo-azul.jpg\"><meta itemprop=\"width\" content=\"600\"><meta itemprop=\"height\" content=\"60\"></div>\n",
    "<meta itemprop=\"name\" content=\"EL TIEMPO\"><meta itemprop=\"url\" content=\"https://www.eltiempo.com\"></div>\n",
    "<div class=\"oculto\" id=\"foto-oculta-video\"><figure class=\"foto-desktop-noticias-seccion\" itemprop=\"image\" itemscope=\"\" itemtype=\"https://schema.org/ImageObject\"><img alt=\"\" src=\"/images/1x1.png\" data-original=\"https://www.eltiempo.comhttps://www.eltiempo.com/files/image_170_113/uploads/2022/10/16/634c3fa467652.png\" width=\"170\" height=\"113\"><meta itemprop=\"width\" content=\"170\"><meta itemprop=\"height\" content=\"113\"><meta itemprop=\"url\" content=\"https://www.eltiempo.comhttps://www.eltiempo.com/files/image_170_113/uploads/2022/10/16/634c3fa467652.png\"></figure></div></article>\"\"\"\n",
    "\n",
    "t2 = \"\"\"<article class=\"image-left\" dtm-name=\"Contenido4\" itemscope=\"\" itemtype=\"https://schema.org/NewsArticle\" id=\"m1290-2-1291\"><div class=\"recurso\" itemtype=\"https://schema.org/NewsArticle\">\n",
    "<figure class=\"image-container\" width=\"170\" height=\"113\"><a id=\"m1295-1294-1296\" class=\"image page-link\" itemprop=\"image\" itemscope=\"\" itemtype=\"https://schema.org/ImageObject\" href=\"/colombia/otras-ciudades/avioneta-en-santa-marta-se-accidento-muerte-nina-pasajera-710269\"><picture><source srcset=\"/files/image_400_266/uploads/2022/10/16/634c3a10e5792.png\" media=\"(max-width:767px)\" class=\"js-lazy-image--handled\"><img style=\" display: inline;\" alt=\"\" src=\"/files/image_170_113/uploads/2022/10/16/634c3a10e5792.png\" class=\"js-lazy-image--handled\" width=\"170px\" height=\"113px\"></picture><meta itemprop=\"width\" content=\"170\"><meta itemprop=\"height\" content=\"113\"><meta itemprop=\"url\" content=\"https://www.eltiempo.com/files/image_170_113/uploads/2022/10/16/634c3a10e5792.png\"></a></figure></div>\n",
    "<div class=\"article-details\">\n",
    "<div class=\"category-published\">\n",
    "<a id=\"m1302-1-1303\" class=\"category page-link colombia colombia--otras-ciudades\" href=\"/colombia/otras-ciudades\">Otras Ciudades</a><span id=\"m1308-2-1309\" class=\"published-at\">3:18 pm</span></div>\n",
    "<h2 class=\"title-container\" itemprop=\"headline\">\n",
    "<a class=\"multimediatag page-link\" href=\"/colombia/otras-ciudades/avioneta-en-santa-marta-se-accidento-muerte-nina-pasajera-710269\">\n",
    "<span id=\"m1314-3-1315\">Video</span></a>\n",
    "<a id=\"m1320-4-1321\" class=\"title page-link\" href=\"/colombia/otras-ciudades/avioneta-en-santa-marta-se-accidento-muerte-nina-pasajera-710269\">Muere niño que fue embestido por avión que se salió de pista en Santa Marta</a></h2>\n",
    "</div>\n",
    "<h3 class=\"epigraph-container\">\n",
    "<a id=\"m1326-5-1327\" class=\"epigraph page-link\" href=\"/colombia/otras-ciudades/avioneta-en-santa-marta-se-accidento-muerte-nina-pasajera-710269\">Otra menor está en delicado estado de salud. La tripulación resultó con golpes leves.</a></h3>\n",
    "<meta itemprop=\"datePublished\" content=\"2022-10-16\"><meta itemprop=\"dateModified\" content=\"2022-10-16\"><meta itemscope=\"\" itemprop=\"mainEntityOfPage\" itemtype=\"https://schema.org/WebPage\" itemid=\"https://www.eltiempo.com/colombia/otras-ciudades/avioneta-en-santa-marta-se-accidento-muerte-nina-pasajera-710269\"><span class=\"oculto\" itemprop=\"author\" itemscope=\"\" itemtype=\"https://schema.org/Person\">\n",
    "<span itemprop=\"name\">Roger Urieles</span>\n",
    "</span>\n",
    "<div class=\"oculto\" itemprop=\"publisher\" itemscope=\"\" itemtype=\"https://schema.org/Organization\">\n",
    "<div itemprop=\"logo\" itemscope=\"\" itemtype=\"https://schema.org/ImageObject\">\n",
    "<meta itemprop=\"url\" content=\"https://www.eltiempo.com/bundles/eltiempocms/images/el-tiempo/logo-el-tiempo-azul.jpg\"><meta itemprop=\"width\" content=\"600\"><meta itemprop=\"height\" content=\"60\"></div>\n",
    "<meta itemprop=\"name\" content=\"EL TIEMPO\"><meta itemprop=\"url\" content=\"https://www.eltiempo.com\"></div>\n",
    "</article>\"\"\"\n",
    "\n",
    "t3 =\"\"\"<article class=\"image-left\" dtm-name=\"Contenido5\" itemscope=\"\" itemtype=\"https://schema.org/NewsArticle\" id=\"m1334-3-1335\"><div class=\"recurso\" itemtype=\"https://schema.org/NewsArticle\">\n",
    "<figure class=\"image-container\" width=\"170\" height=\"113\"><a id=\"m1339-1338-1340\" class=\"image page-link\" itemprop=\"image\" itemscope=\"\" itemtype=\"https://schema.org/ImageObject\" href=\"/justicia/cortes/david-barguil-las-interceptaciones-que-lo-tienen-el-lios-en-la-corte-710140\"><picture><source srcset=\"/files/image_400_266/uploads/2022/02/27/621c269ca7f84.jpeg\" media=\"(max-width:767px)\" class=\"js-lazy-image--handled\"><img style=\" display: inline;\" alt=\"\" src=\"/files/image_170_113/uploads/2022/02/27/621c269ca7f84.jpeg\" class=\"js-lazy-image--handled\" width=\"170px\" height=\"113px\"></picture><meta itemprop=\"width\" content=\"170\"><meta itemprop=\"height\" content=\"113\"><meta itemprop=\"url\" content=\"https://www.eltiempo.com/files/image_170_113/uploads/2022/02/27/621c269ca7f84.jpeg\"></a></figure></div>\n",
    "<div class=\"article-details\">\n",
    "<div class=\"category-published\">\n",
    "<a id=\"m1346-1-1347\" class=\"category page-link justicia justicia--cortes\" href=\"/justicia/cortes\">Cortes</a><span id=\"m1352-2-1353\" class=\"published-at\">12:00 am</span></div>\n",
    "<h2 class=\"title-container\" itemprop=\"headline\">\n",
    "<a class=\"multimediatag page-link\" href=\"/justicia/cortes/david-barguil-las-interceptaciones-que-lo-tienen-el-lios-en-la-corte-710140\">\n",
    "<span id=\"m1358-3-1359\">En Vivo</span></a>\n",
    "<a id=\"m1364-4-1365\" class=\"title page-link\" href=\"/justicia/cortes/david-barguil-las-interceptaciones-que-lo-tienen-el-lios-en-la-corte-710140\">David Barguil: las interceptaciones que tienen en líos al exsenador en la Corte</a></h2>\n",
    "</div>\n",
    "<h3 class=\"epigraph-container\">\n",
    "<a id=\"m1370-5-1371\" class=\"epigraph page-link\" href=\"/justicia/cortes/david-barguil-las-interceptaciones-que-lo-tienen-el-lios-en-la-corte-710140\">EL TIEMPO revela el expediente en contra del exsenador quien fue llamado a indagatoria.</a></h3>\n",
    "<meta itemprop=\"datePublished\" content=\"2022-10-16\"><meta itemprop=\"dateModified\" content=\"2022-10-15\"><meta itemscope=\"\" itemprop=\"mainEntityOfPage\" itemtype=\"https://schema.org/WebPage\" itemid=\"https://www.eltiempo.com/justicia/cortes/david-barguil-las-interceptaciones-que-lo-tienen-el-lios-en-la-corte-710140\"><span class=\"oculto\" itemprop=\"author\" itemscope=\"\" itemtype=\"https://schema.org/Person\">\n",
    "<span itemprop=\"name\">Alejandra Bonilla Mora</span>\n",
    "</span>\n",
    "<div class=\"oculto\" itemprop=\"publisher\" itemscope=\"\" itemtype=\"https://schema.org/Organization\">\n",
    "<div itemprop=\"logo\" itemscope=\"\" itemtype=\"https://schema.org/ImageObject\">\n",
    "<meta itemprop=\"url\" content=\"https://www.eltiempo.com/bundles/eltiempocms/images/el-tiempo/logo-el-tiempo-azul.jpg\"><meta itemprop=\"width\" content=\"600\"><meta itemprop=\"height\" content=\"60\"></div>\n",
    "<meta itemprop=\"name\" content=\"EL TIEMPO\"><meta itemprop=\"url\" content=\"https://www.eltiempo.com\"></div>\n",
    "</article>\"\"\"\n",
    "\n"
   ]
  },
  {
   "cell_type": "code",
   "execution_count": 14,
   "metadata": {},
   "outputs": [],
   "source": [
    "s1=\"\"\"tema|id|tema|link|structure\\n|m1251-1250-1252|colombia|/colombia/otras-ciudades/asi-fue-accidente-aereo-que-causo-la-tragedia-en-una-familia-en-santa-marta-710295|<a class=\"image page-link\" href=\"/colombia/otras-ciudades/asi-fue-accidente-aereo-que-causo-la-tragedia-en-una-familia-en-santa-marta-710295\" id=\"m1251-1250-1252\"><picture><source class=\"js-lazy-image--handled\" media=\"(max-width:767px)\" srcset=\"/files/image_400_266/uploads/2022/10/16/634c3fa467652.png\"/><img alt=\"\" class=\"js-lazy-image--handled\" height=\"113px\" itemprop=\"thumbnailUrl\" src=\"https://www.eltiempo.com/files/image_170_113/uploads/2022/10/16/634c3fa467652.png\" style=\" display: inline;\" width=\"170px\"/></picture></a>\\nOtras Ciudades|m1258-1-1259|colombia|/colombia/otras-ciudades|<a class=\"category page-link colombia colombia--otras-ciudades\" href=\"/colombia/otras-ciudades\" id=\"m1258-1-1259\">Otras Ciudades</a>\\nAsí fue el accidente aéreo que causó la tragedia de una familia en Santa Marta|m1276-4-1277|colombia|/colombia/otras-ciudades/asi-fue-accidente-aereo-que-causo-la-tragedia-en-una-familia-en-santa-marta-710295|<a class=\"title page-link\" href=\"/colombia/otras-ciudades/asi-fue-accidente-aereo-que-causo-la-tragedia-en-una-familia-en-santa-marta-710295\" id=\"m1276-4-1277\">Así fue el accidente aéreo que causó la tragedia de una familia en Santa Marta</a>\\nUn niño murió y otra menor se encuentra en estado grave. Una adulta mayor también permanece en UCI.|m1282-5-1283|colombia|/colombia/otras-ciudades/asi-fue-accidente-aereo-que-causo-la-tragedia-en-una-familia-en-santa-marta-710295|<a class=\"epigraph page-link\" href=\"/colombia/otras-ciudades/asi-fue-accidente-aereo-que-causo-la-tragedia-en-una-familia-en-santa-marta-710295\" id=\"m1282-5-1283\">Un niño murió y otra menor se encuentra en estado grave. Una adulta mayor también permanece en UCI.</a>\\n\"\"\"\n",
    "s2=\"\"\"tema|id|tema|link|structure\\n|m1295-1294-1296|colombia|/colombia/otras-ciudades/avioneta-en-santa-marta-se-accidento-muerte-nina-pasajera-710269|<a class=\"image page-link\" href=\"/colombia/otras-ciudades/avioneta-en-santa-marta-se-accidento-muerte-nina-pasajera-710269\" id=\"m1295-1294-1296\" itemprop=\"image\" itemscope=\"\" itemtype=\"https://schema.org/ImageObject\"><picture><source class=\"js-lazy-image--handled\" media=\"(max-width:767px)\" srcset=\"/files/image_400_266/uploads/2022/10/16/634c3a10e5792.png\"/><img alt=\"\" class=\"js-lazy-image--handled\" height=\"113px\" src=\"/files/image_170_113/uploads/2022/10/16/634c3a10e5792.png\" style=\" display: inline;\" width=\"170px\"/></picture><meta content=\"170\" itemprop=\"width\"/><meta content=\"113\" itemprop=\"height\"/><meta content=\"https://www.eltiempo.com/files/image_170_113/uploads/2022/10/16/634c3a10e5792.png\" itemprop=\"url\"/></a>\\nOtras Ciudades|m1302-1-1303|colombia|/colombia/otras-ciudades|<a class=\"category page-link colombia colombia--otras-ciudades\" href=\"/colombia/otras-ciudades\" id=\"m1302-1-1303\">Otras Ciudades</a>\\nMuere niño que fue embestido por avión que se salió de pista en Santa Marta|m1320-4-1321|colombia|/colombia/otras-ciudades/avioneta-en-santa-marta-se-accidento-muerte-nina-pasajera-710269|<a class=\"title page-link\" href=\"/colombia/otras-ciudades/avioneta-en-santa-marta-se-accidento-muerte-nina-pasajera-710269\" id=\"m1320-4-1321\">Muere niño que fue embestido por avión que se salió de pista en Santa Marta</a>\\nOtra menor está en delicado estado de salud. La tripulación resultó con golpes leves.|m1326-5-1327|colombia|/colombia/otras-ciudades/avioneta-en-santa-marta-se-accidento-muerte-nina-pasajera-710269|<a class=\"epigraph page-link\" href=\"/colombia/otras-ciudades/avioneta-en-santa-marta-se-accidento-muerte-nina-pasajera-710269\" id=\"m1326-5-1327\">Otra menor está en delicado estado de salud. La tripulación resultó con golpes leves.</a>\\n\"\"\"\n",
    "s3=\"\"\"tema|id|tema|link|structure\\n|m1339-1338-1340|justicia|/justicia/cortes/david-barguil-las-interceptaciones-que-lo-tienen-el-lios-en-la-corte-710140|<a class=\"image page-link\" href=\"/justicia/cortes/david-barguil-las-interceptaciones-que-lo-tienen-el-lios-en-la-corte-710140\" id=\"m1339-1338-1340\" itemprop=\"image\" itemscope=\"\" itemtype=\"https://schema.org/ImageObject\"><picture><source class=\"js-lazy-image--handled\" media=\"(max-width:767px)\" srcset=\"/files/image_400_266/uploads/2022/02/27/621c269ca7f84.jpeg\"/><img alt=\"\" class=\"js-lazy-image--handled\" height=\"113px\" src=\"/files/image_170_113/uploads/2022/02/27/621c269ca7f84.jpeg\" style=\" display: inline;\" width=\"170px\"/></picture><meta content=\"170\" itemprop=\"width\"/><meta content=\"113\" itemprop=\"height\"/><meta content=\"https://www.eltiempo.com/files/image_170_113/uploads/2022/02/27/621c269ca7f84.jpeg\" itemprop=\"url\"/></a>\\nCortes|m1346-1-1347|justicia|/justicia/cortes|<a class=\"category page-link justicia justicia--cortes\" href=\"/justicia/cortes\" id=\"m1346-1-1347\">Cortes</a>\\nDavid Barguil: las interceptaciones que tienen en líos al exsenador en la Corte|m1364-4-1365|justicia|/justicia/cortes/david-barguil-las-interceptaciones-que-lo-tienen-el-lios-en-la-corte-710140|<a class=\"title page-link\" href=\"/justicia/cortes/david-barguil-las-interceptaciones-que-lo-tienen-el-lios-en-la-corte-710140\" id=\"m1364-4-1365\">David Barguil: las interceptaciones que tienen en líos al exsenador en la Corte</a>\\nEL TIEMPO revela el expediente en contra del exsenador quien fue llamado a indagatoria.|m1370-5-1371|justicia|/justicia/cortes/david-barguil-las-interceptaciones-que-lo-tienen-el-lios-en-la-corte-710140|<a class=\"epigraph page-link\" href=\"/justicia/cortes/david-barguil-las-interceptaciones-que-lo-tienen-el-lios-en-la-corte-710140\" id=\"m1370-5-1371\">EL TIEMPO revela el expediente en contra del exsenador quien fue llamado a indagatoria.</a>\\n\"\"\""
   ]
  },
  {
   "cell_type": "code",
   "execution_count": 24,
   "metadata": {},
   "outputs": [
    {
     "name": "stderr",
     "output_type": "stream",
     "text": [
      "test_function (__main__.MyTestCase) ... ok\n",
      "\n",
      "----------------------------------------------------------------------\n",
      "Ran 1 test in 0.010s\n",
      "\n",
      "OK\n"
     ]
    },
    {
     "data": {
      "text/plain": [
       "<unittest.main.TestProgram at 0x25840a50b80>"
      ]
     },
     "execution_count": 24,
     "metadata": {},
     "output_type": "execute_result"
    }
   ],
   "source": [
    "import unittest\n",
    "\n",
    "class MyTestCase(unittest.TestCase):\n",
    "    def test_function(self):\n",
    "        self.assertEqual(to_csv(t1),s1)\n",
    "        self.assertEqual(to_csv(t2),s2)\n",
    "        self.assertEqual(to_csv(t3),s3)\n",
    "        \n",
    "unittest.main(argv=[''], verbosity=3, exit=False)"
   ]
  }
 ],
 "metadata": {
  "kernelspec": {
   "display_name": "Python 3",
   "language": "python",
   "name": "python3"
  },
  "language_info": {
   "codemirror_mode": {
    "name": "ipython",
    "version": 3
   },
   "file_extension": ".py",
   "mimetype": "text/x-python",
   "name": "python",
   "nbconvert_exporter": "python",
   "pygments_lexer": "ipython3",
   "version": "3.8.5"
  }
 },
 "nbformat": 4,
 "nbformat_minor": 4
}
